{
 "cells": [
  {
   "cell_type": "markdown",
   "metadata": {},
   "source": [
    "<i>Copyright (c) Microsoft Corporation. All rights reserved.</i>\n",
    "\n",
    "<i>Licensed under the MIT License.</i>"
   ]
  },
  {
   "cell_type": "markdown",
   "metadata": {},
   "source": [
    "# Bayesian Personalized Ranking (BPR)\n",
    "\n",
    "This notebook serves as an introduction to Bayesian Personalized Ranking (BPR) model for implicit feedback.  In this tutorial, we focus on learning the BPR model using matrix factorization approach, hence, the model is sometimes also named BPRMF.\n",
    "\n",
    "The implementation of the model is from [Cornac](https://github.com/PreferredAI/cornac), which is a framework for recommender systems with a focus on models leveraging auxiliary data (e.g., item descriptive text and image, social network, etc)."
   ]
  },
  {
   "cell_type": "markdown",
   "metadata": {},
   "source": [
    "## 0 Global Settings and Imports"
   ]
  },
  {
   "cell_type": "markdown",
   "metadata": {},
   "source": [
    "## 1 BPR Algorithm\n",
    "\n",
    "### 1.1 Personalized Ranking from Implicit Feedback\n",
    "\n",
    "The task of personalized ranking aims at providing each user a ranked list of items (recommendations).  This is very common in scenarios where recommender systems are based on implicit user behavior (e.g. purchases, clicks).  The available observations are only positive feedback where the non-observed ones are a mixture of real negative feedback and missing values.\n",
    "\n",
    "One usual approach for item recommendation is directly predicting a preference score $\\hat{x}_{u,i}$ given to item $i$ by user $u$.  BPR uses a different approach by using item pairs $(i, j)$ and optimizing for the correct ranking given preference of user $u$, thus, there are notions of *positive* and *negative* items.  The training data $D_S : U \\times I \\times I$ is defined as:\n",
    "\n",
    "$$D_S = \\{(u, i, j) \\mid i \\in I^{+}_{u} \\wedge j \\in I \\setminus I^{+}_{u}\\}$$\n",
    "\n",
    "where user $u$ is assumed to prefer $i$ over $j$ (i.e. $i$ is a *positive item* and $j$ is a *negative item*).\n",
    "\n",
    "\n",
    "### 1.2 Objective Function\n",
    "\n",
    "From the Bayesian perspective, BPR maximizes the posterior probability over the model parameters $\\Theta$ by optimizing the likelihood function $p(i >_{u} j | \\Theta)$ and the prior probability $p(\\Theta)$.\n",
    "\n",
    "$$p(\\Theta \\mid >_{u}) \\propto p(i >_{u} j \\mid \\Theta) \\times p(\\Theta)$$\n",
    "\n",
    "The joint probability of the likelihood over all users $u \\in U$ can be simplified to:\n",
    "\n",
    "$$ \\prod_{u \\in U} p(>_{u} \\mid \\Theta) = \\prod_{(u, i, j) \\in D_S} p(i >_{u} j \\mid \\Theta) $$\n",
    "\n",
    "The individual probability that a user $u$ prefers item $i$ to item $j$ can be defined as:\n",
    "\n",
    "$$ p(i >_{u} j \\mid \\Theta) = \\sigma (\\hat{x}_{uij}(\\Theta)) $$\n",
    "\n",
    "where $\\sigma$ is the logistic sigmoid:\n",
    "\n",
    "$$ \\sigma(x) = \\frac{1}{1 + e^{-x}} $$\n",
    "\n",
    "The preference scoring function $\\hat{x}_{uij}(\\Theta)$ could be an arbitrary real-valued function of the model parameter $\\Theta$.  Thus, it makes BPR a general framework for modeling the relationship between triplets $(u, i, j)$ where different model classes like matrix factorization could be used for estimating $\\hat{x}_{uij}(\\Theta)$.\n",
    "\n",
    "For the prior, one of the common pratices is to choose $p(\\Theta)$ following a normal distribution, which results in a nice form of L2 regularization in the final log-form of the objective function.\n",
    "\n",
    "$$ p(\\Theta) \\sim N(0, \\Sigma_{\\Theta}) $$\n",
    "\n",
    "To reduce the complexity of the model, all parameters $\\Theta$ are assumed to be independent and having the same variance, which gives a simpler form of the co-variance matrix $\\Sigma_{\\Theta} = \\lambda_{\\Theta}I$.  Thus, there are less number of hyperparameters to be determined.\n",
    "\n",
    "The final objective of the maximum posterior estimator:\n",
    "\n",
    "$$ J = \\sum_{(u, i, j) \\in D_S} \\text{ln } \\sigma(\\hat{x}_{uij}) - \\lambda_{\\Theta} ||\\Theta||^2 $$\n",
    "\n",
    "where $\\lambda_\\Theta$ are the model specific regularization paramerters.\n",
    "\n",
    "\n",
    "### 1.3 Learning with Matrix Factorization\n",
    "\n",
    "#### Stochastic Gradient Descent\n",
    "\n",
    "As the defined objective function is differentible, gradient descent based method for optimization is naturally adopted.  The gradient of the objective $J$ with respect to the model parameters:\n",
    "\n",
    "$$\n",
    "\\begin{align}\n",
    "\\frac{\\partial J}{\\partial \\Theta} & = \\sum_{(u, i, j) \\in D_S} \\frac{\\partial}{\\partial \\Theta} \\text{ln} \\ \\sigma(\\hat{x}_{uij}) - \\lambda_{\\Theta} \\frac{\\partial}{\\partial \\Theta} ||\\Theta||^2 \\\\\n",
    "& \\propto \\sum_{(u, i, j) \\in D_S} \\frac{-e^{-\\hat{x}_{uij}}}{1 + e^{-\\hat{x}_{uij}}} \\cdot  \\frac{\\partial}{\\partial \\Theta} \\hat{x}_{uij} - \\lambda_{\\Theta} \\Theta\n",
    "\\end{align}\n",
    "$$\n",
    "\n",
    "Due to slow convergence of full gradient descent, we prefer using stochastic gradient descent to optimize the BPR model.  For each triplet $(u, i, j) \\in D_S$, the update rule for the parameters:\n",
    "\n",
    "$$ \\Theta \\leftarrow \\Theta + \\alpha \\Big( \\frac{e^{-\\hat{x}_{uij}}}{1 + e^{-\\hat{x}_{uij}}} \\cdot \\frac{\\partial}{\\partial \\Theta} \\hat{x}_{uij} + \\lambda_\\Theta \\Theta \\Big) $$\n",
    "\n",
    "#### Matrix Factorization for Preference Approximation\n",
    "\n",
    "As mentioned earlier, the preference scoring function $\\hat{x}_{uij}(\\Theta)$ could be approximated by any real-valued function.  First, the estimator $\\hat{x}_{uij}$ is decomposed into:\n",
    "\n",
    "$$ \\hat{x}_{uij} = \\hat{x}_{ui} - \\hat{x}_{uj} $$\n",
    "\n",
    "The problem of estimating $\\hat{x}_{ui}$ is a standard collaborative filtering formulation, where matrix factorization approach has shown to be very effective.  The prediction formula can written as dot product between user feature vector $w_u$ and item feature vector $h_i$:\n",
    "\n",
    "$$ \\hat{x}_{ui} = \\langle w_u , h_i \\rangle = \\sum_{f=1}^{k} w_{uf} \\cdot h_{if} $$\n",
    "\n",
    "The  derivatives of matrix factorization with respect to the model parameters are:\n",
    "\n",
    "$$\n",
    "\\frac{\\partial}{\\partial \\theta} \\hat{x}_{uij} = \n",
    "\\begin{cases}\n",
    "    (h_{if} - h_{jf})  & \\text{if } \\theta = w_{uf} \\\\\n",
    "    w_{uf}             & \\text{if } \\theta = h_{if} \\\\\n",
    "    -w_{uf}            & \\text{if } \\theta = h_{jf} \\\\\n",
    "    0                  & \\text{else}\n",
    "\\end{cases}\n",
    "$$\n",
    "\n",
    "In theory, any kernel can be used to estimate $\\hat{x}_{ui}$ besides the dot product $ \\langle \\cdot , \\cdot \\rangle $.  For example, k-Nearest-Neighbor (kNN) has also been shown to achieve good performance.\n"
   ]
  },
  {
   "cell_type": "code",
   "execution_count": 72,
   "metadata": {
    "tags": [
     "parameters"
    ]
   },
   "outputs": [],
   "source": [
    "# Select MovieLens data size: 100k, 1m, 10m, or 20m\n",
    "MOVIELENS_DATA_SIZE = '20m'\n",
    "\n",
    "# top k items to recommend\n",
    "TOP_K = 10\n",
    "\n",
    "# Model parameters\n",
    "NUM_FACTORS = 20000\n",
    "NUM_EPOCHS = 20"
   ]
  },
  {
   "cell_type": "code",
   "execution_count": 73,
   "metadata": {},
   "outputs": [
    {
     "name": "stdout",
     "output_type": "stream",
     "text": [
      "System version: 3.7.6 (default, Jan  8 2020, 13:42:34) \n",
      "[Clang 4.0.1 (tags/RELEASE_401/final)]\n"
     ]
    }
   ],
   "source": [
    "import sys\n",
    "sys.path.append(\"../../\")\n",
    "import os\n",
    "import cornac\n",
    "import papermill as pm\n",
    "import pandas as pd\n",
    "from reco_utils.dataset import movielens\n",
    "from reco_utils.dataset.python_splitters import python_random_split\n",
    "from reco_utils.evaluation.python_evaluation import map_at_k, ndcg_at_k, precision_at_k, recall_at_k\n",
    "from reco_utils.recommender.cornac.cornac_utils import predict_ranking\n",
    "from reco_utils.common.timer import Timer\n",
    "from reco_utils.common.constants import SEED\n",
    "\n",
    "print(\"System version: {}\".format(sys.version))"
   ]
  },
  {
   "cell_type": "code",
   "execution_count": 74,
   "metadata": {},
   "outputs": [
    {
     "name": "stdout",
     "output_type": "stream",
     "text": [
      "System version: 3.7.6 (default, Jan  8 2020, 13:42:34) \n",
      "[Clang 4.0.1 (tags/RELEASE_401/final)]\n"
     ]
    }
   ],
   "source": [
    "# set the environment path to find Recommenders\n",
    "import sys\n",
    "sys.path.append(\"../../\")\n",
    "\n",
    "import pandas as pd\n",
    "import numpy as np\n",
    "from datetime import datetime, timedelta\n",
    "\n",
    "from reco_utils.common.spark_utils import start_or_get_spark\n",
    "from reco_utils.dataset.download_utils import maybe_download\n",
    "from reco_utils.dataset.python_splitters import (\n",
    "    python_random_split, \n",
    "    python_chrono_split, \n",
    "    python_stratified_split\n",
    ")\n",
    "from reco_utils.dataset.spark_splitters import (\n",
    "    spark_random_split, \n",
    "    spark_chrono_split, \n",
    "    spark_stratified_split,\n",
    "    spark_timestamp_split\n",
    ")\n",
    "\n",
    "print(\"System version: {}\".format(sys.version))\n"
   ]
  },
  {
   "cell_type": "markdown",
   "metadata": {},
   "source": [
    "## 2 Cornac implementation of BPR\n",
    "\n",
    "BPR is implemented in the [Cornac](https://cornac.readthedocs.io/en/latest/index.html) framework as part of the model collections.\n",
    "* Detailed documentations of the BPR model in Cornac can be found [here](https://cornac.readthedocs.io/en/latest/models.html#bayesian-personalized-ranking-bpr).\n",
    "* Source codes of the BPR implementation is available on the Cornac Github repository, which can be found [here](https://github.com/PreferredAI/cornac/blob/master/cornac/models/bpr/recom_bpr.pyx).\n"
   ]
  },
  {
   "cell_type": "markdown",
   "metadata": {},
   "source": [
    "## 3 Cornac BPR movie recommender\n",
    "\n",
    "\n",
    "### 3.1 Load and split data\n",
    "为了评估项目推荐的表现情况，我们采取随机分割的python工具`python_random_split` 来保持一致性。数据被随机地分割成训练和测试的两个集合，比例为75/25.\n",
    "Cornac还提供了许多其他的用以评估的工具方案。[built-in schemes](https://cornac.readthedocs.io/en/latest/eval_methods.html) \n",
    "\n",
    "将数据导入\n",
    "预览前几行的数据信息。\n",
    "然后对数据进行分割。"
   ]
  },
  {
   "cell_type": "code",
   "execution_count": null,
   "metadata": {},
   "outputs": [],
   "source": []
  },
  {
   "cell_type": "code",
   "execution_count": 1,
   "metadata": {
    "scrolled": true,
    "tags": [
     "导入数据"
    ]
   },
   "outputs": [
    {
     "data": {
      "text/html": [
       "<div>\n",
       "<style scoped>\n",
       "    .dataframe tbody tr th:only-of-type {\n",
       "        vertical-align: middle;\n",
       "    }\n",
       "\n",
       "    .dataframe tbody tr th {\n",
       "        vertical-align: top;\n",
       "    }\n",
       "\n",
       "    .dataframe thead th {\n",
       "        text-align: right;\n",
       "    }\n",
       "</style>\n",
       "<table border=\"1\" class=\"dataframe\">\n",
       "  <thead>\n",
       "    <tr style=\"text-align: right;\">\n",
       "      <th></th>\n",
       "      <th>beidawlf_01_01</th>\n",
       "      <th>1.1</th>\n",
       "      <th>00:00:00.000</th>\n",
       "      <th>1900-01-02 04:20:00.000</th>\n",
       "      <th>软件及软件工程的相关概念(1)</th>\n",
       "      <th>beidawlf_01_01.1</th>\n",
       "    </tr>\n",
       "  </thead>\n",
       "  <tbody>\n",
       "    <tr>\n",
       "      <th>0</th>\n",
       "      <td>beidawlf_01_01_01</td>\n",
       "      <td>1.1</td>\n",
       "      <td>00:00:00.000</td>\n",
       "      <td>01:29:00.000</td>\n",
       "      <td>第一讲主要内容概述</td>\n",
       "      <td>beidawlf_01_01_01</td>\n",
       "    </tr>\n",
       "    <tr>\n",
       "      <th>1</th>\n",
       "      <td>beidawlf_01_01_02</td>\n",
       "      <td>1.2</td>\n",
       "      <td>01:29:00.000</td>\n",
       "      <td>11:50:00.000</td>\n",
       "      <td>软件的概念</td>\n",
       "      <td>beidawlf_01_01_02</td>\n",
       "    </tr>\n",
       "    <tr>\n",
       "      <th>2</th>\n",
       "      <td>beidawlf_01_01_03</td>\n",
       "      <td>1.2</td>\n",
       "      <td>11:50:00.000</td>\n",
       "      <td>17:30:00.000</td>\n",
       "      <td>软件的分类</td>\n",
       "      <td>beidawlf_01_01_03</td>\n",
       "    </tr>\n",
       "    <tr>\n",
       "      <th>3</th>\n",
       "      <td>beidawlf_01_01_04</td>\n",
       "      <td>1.2</td>\n",
       "      <td>17:30:00.000</td>\n",
       "      <td>21:40:00.000</td>\n",
       "      <td>软件研究的三个层次</td>\n",
       "      <td>beidawlf_01_01_04</td>\n",
       "    </tr>\n",
       "    <tr>\n",
       "      <th>4</th>\n",
       "      <td>beidawlf_01_01_05</td>\n",
       "      <td>1.2</td>\n",
       "      <td>21:40:00.000</td>\n",
       "      <td>1900-01-01 00:18:00.000</td>\n",
       "      <td>软件发展的阶段</td>\n",
       "      <td>beidawlf_01_01_05</td>\n",
       "    </tr>\n",
       "  </tbody>\n",
       "</table>\n",
       "</div>"
      ],
      "text/plain": [
       "      beidawlf_01_01  1.1  00:00:00.000  1900-01-02 04:20:00.000  \\\n",
       "0  beidawlf_01_01_01  1.1  00:00:00.000             01:29:00.000   \n",
       "1  beidawlf_01_01_02  1.2  01:29:00.000             11:50:00.000   \n",
       "2  beidawlf_01_01_03  1.2  11:50:00.000             17:30:00.000   \n",
       "3  beidawlf_01_01_04  1.2  17:30:00.000             21:40:00.000   \n",
       "4  beidawlf_01_01_05  1.2  21:40:00.000  1900-01-01 00:18:00.000   \n",
       "\n",
       "  软件及软件工程的相关概念(1)   beidawlf_01_01.1  \n",
       "0       第一讲主要内容概述  beidawlf_01_01_01  \n",
       "1           软件的概念  beidawlf_01_01_02  \n",
       "2           软件的分类  beidawlf_01_01_03  \n",
       "3       软件研究的三个层次  beidawlf_01_01_04  \n",
       "4         软件发展的阶段  beidawlf_01_01_05  "
      ]
     },
     "execution_count": 1,
     "metadata": {},
     "output_type": "execute_result"
    }
   ],
   "source": [
    "import pandas as pd\n",
    "#获取课程内容\n",
    "filepath_section = \"/Users/apple/Recommenders/examples/02_model_collaborative_filtering/moodle/section课程内容与时间.csv\"\n",
    "data_sectionTime = pd.read_csv(filepath_section,encoding='utf-8')\n",
    "data_sectionTime.head()\n"
   ]
  },
  {
   "cell_type": "code",
   "execution_count": 2,
   "metadata": {},
   "outputs": [
    {
     "data": {
      "text/html": [
       "<div>\n",
       "<style scoped>\n",
       "    .dataframe tbody tr th:only-of-type {\n",
       "        vertical-align: middle;\n",
       "    }\n",
       "\n",
       "    .dataframe tbody tr th {\n",
       "        vertical-align: top;\n",
       "    }\n",
       "\n",
       "    .dataframe thead th {\n",
       "        text-align: right;\n",
       "    }\n",
       "</style>\n",
       "<table border=\"1\" class=\"dataframe\">\n",
       "  <thead>\n",
       "    <tr style=\"text-align: right;\">\n",
       "      <th></th>\n",
       "      <th>id</th>\n",
       "      <th>学号</th>\n",
       "      <th>课程id</th>\n",
       "      <th>行为编号</th>\n",
       "      <th>开始时间</th>\n",
       "      <th>持续时间</th>\n",
       "      <th>行为发生时间</th>\n",
       "    </tr>\n",
       "  </thead>\n",
       "  <tbody>\n",
       "    <tr>\n",
       "      <th>0</th>\n",
       "      <td>1</td>\n",
       "      <td>C9C2FE704F86435C</td>\n",
       "      <td>zhedacy_01_02_02</td>\n",
       "      <td>1</td>\n",
       "      <td>\\N</td>\n",
       "      <td>\\N</td>\n",
       "      <td>2017/2/23 2:01</td>\n",
       "    </tr>\n",
       "    <tr>\n",
       "      <th>1</th>\n",
       "      <td>2</td>\n",
       "      <td>FA7F9E298B05D28A</td>\n",
       "      <td>beidawlf_01_02_02</td>\n",
       "      <td>1</td>\n",
       "      <td>\\N</td>\n",
       "      <td>\\N</td>\n",
       "      <td>2017/2/23 8:33</td>\n",
       "    </tr>\n",
       "    <tr>\n",
       "      <th>2</th>\n",
       "      <td>3</td>\n",
       "      <td>FA7F9E298B05D28A</td>\n",
       "      <td>beidawlf_01_02_02</td>\n",
       "      <td>2</td>\n",
       "      <td>00:00.0</td>\n",
       "      <td>02:00.0</td>\n",
       "      <td>2017/2/23 8:33</td>\n",
       "    </tr>\n",
       "    <tr>\n",
       "      <th>3</th>\n",
       "      <td>4</td>\n",
       "      <td>FA7F9E298B05D28A</td>\n",
       "      <td>beidawlf_01_02_02</td>\n",
       "      <td>3</td>\n",
       "      <td>02:00.0</td>\n",
       "      <td>08:00.0</td>\n",
       "      <td>2017/2/23 8:33</td>\n",
       "    </tr>\n",
       "    <tr>\n",
       "      <th>4</th>\n",
       "      <td>5</td>\n",
       "      <td>FA7F9E298B05D28A</td>\n",
       "      <td>beidawlf_01_02_02</td>\n",
       "      <td>2</td>\n",
       "      <td>02:00.0</td>\n",
       "      <td>48:00.0</td>\n",
       "      <td>2017/2/23 8:44</td>\n",
       "    </tr>\n",
       "  </tbody>\n",
       "</table>\n",
       "</div>"
      ],
      "text/plain": [
       "   id                学号               课程id  行为编号     开始时间     持续时间  \\\n",
       "0   1  C9C2FE704F86435C   zhedacy_01_02_02     1       \\N       \\N   \n",
       "1   2  FA7F9E298B05D28A  beidawlf_01_02_02     1       \\N       \\N   \n",
       "2   3  FA7F9E298B05D28A  beidawlf_01_02_02     2  00:00.0  02:00.0   \n",
       "3   4  FA7F9E298B05D28A  beidawlf_01_02_02     3  02:00.0  08:00.0   \n",
       "4   5  FA7F9E298B05D28A  beidawlf_01_02_02     2  02:00.0  48:00.0   \n",
       "\n",
       "           行为发生时间  \n",
       "0  2017/2/23 2:01  \n",
       "1  2017/2/23 8:33  \n",
       "2  2017/2/23 8:33  \n",
       "3  2017/2/23 8:33  \n",
       "4  2017/2/23 8:44  "
      ]
     },
     "execution_count": 2,
     "metadata": {},
     "output_type": "execute_result"
    }
   ],
   "source": [
    "#获得学生行为数据\n",
    "filepath_student ='/Users/apple/Recommenders/examples/02_model_collaborative_filtering/moodle/学生行为记录2.csv'\n",
    "data_student = pd.read_csv(filepath_student,encoding='gbk')\n",
    "data_student.head()"
   ]
  },
  {
   "cell_type": "code",
   "execution_count": 3,
   "metadata": {},
   "outputs": [
    {
     "name": "stdout",
     "output_type": "stream",
     "text": [
      "<class 'pandas.core.frame.DataFrame'>\n",
      "RangeIndex: 679078 entries, 0 to 679077\n",
      "Data columns (total 7 columns):\n",
      " #   Column  Non-Null Count   Dtype \n",
      "---  ------  --------------   ----- \n",
      " 0   id      679078 non-null  int64 \n",
      " 1   学号      679078 non-null  object\n",
      " 2   课程id    679078 non-null  object\n",
      " 3   行为编号    679078 non-null  int64 \n",
      " 4   开始时间    679078 non-null  object\n",
      " 5   持续时间    679078 non-null  object\n",
      " 6   行为发生时间  679078 non-null  object\n",
      "dtypes: int64(2), object(5)\n",
      "memory usage: 36.3+ MB\n"
     ]
    }
   ],
   "source": [
    "data_student.info()\n"
   ]
  },
  {
   "cell_type": "code",
   "execution_count": 68,
   "metadata": {},
   "outputs": [
    {
     "name": "stdout",
     "output_type": "stream",
     "text": [
      "Total number of users are\t331\n",
      "Total number of items are\t1421\n"
     ]
    }
   ],
   "source": [
    "DATA_PATH = \"/Users/apple/Recommenders/examples/02_model_collaborative_filtering/moodle\"\n",
    "\n",
    "COL_USER = \"学号\"\n",
    "COL_ITEM = \"课程id\"\n",
    "COL_RATING = \"持续时间\"\n",
    "COL_PREDICTION = \"Rating\"\n",
    "COL_TIMESTAMP = \"行为发生时间\"\n",
    "print(\n",
    "    #\"Total number of ratings are\\t{}\".format(data_student[COL_RATING]),\n",
    "    \"Total number of users are\\t{}\".format(data_student[COL_USER].nunique()),\n",
    "    \"Total number of items are\\t{}\".format(data_student[COL_ITEM].nunique()),\n",
    "    sep=\"\\n\"\n",
    ")"
   ]
  },
  {
   "cell_type": "code",
   "execution_count": null,
   "metadata": {},
   "outputs": [],
   "source": [
    "#获得课程项目的名称地图\n",
    "data_item=data_sectionTime[['beidawlf_01_01','软件及软件工程的相关概念(1)']]\n",
    "data_item.head()\n",
    "#获得课程项目的视频地址\n",
    "data_video=data_sectionTime[['beidawlf_01_01']]\n",
    "data_video.head()\n",
    "data_sectionTime.head()\n",
    "\n",
    "data_studentMap = data_student[['学号','学号']]\n"
   ]
  },
  {
   "cell_type": "code",
   "execution_count": 44,
   "metadata": {},
   "outputs": [
    {
     "name": "stdout",
     "output_type": "stream",
     "text": [
      "<class 'pandas.core.frame.DataFrame'>\n",
      "Int64Index: 41154 entries, 10 to 679077\n",
      "Data columns (total 7 columns):\n",
      " #   Column  Non-Null Count  Dtype         \n",
      "---  ------  --------------  -----         \n",
      " 0   id      41154 non-null  int64         \n",
      " 1   学号      41154 non-null  object        \n",
      " 2   课程id    41154 non-null  object        \n",
      " 3   行为编号    41154 non-null  int64         \n",
      " 4   开始时间    41154 non-null  object        \n",
      " 5   持续时间    41154 non-null  object        \n",
      " 6   行为发生时间  41154 non-null  datetime64[ns]\n",
      "dtypes: datetime64[ns](1), int64(2), object(4)\n",
      "memory usage: 2.5+ MB\n"
     ]
    },
    {
     "name": "stderr",
     "output_type": "stream",
     "text": [
      "/opt/anaconda3/lib/python3.7/site-packages/ipykernel_launcher.py:2: SettingWithCopyWarning: \n",
      "A value is trying to be set on a copy of a slice from a DataFrame.\n",
      "Try using .loc[row_indexer,col_indexer] = value instead\n",
      "\n",
      "See the caveats in the documentation: https://pandas.pydata.org/pandas-docs/stable/user_guide/indexing.html#returning-a-view-versus-a-copy\n",
      "  \n"
     ]
    }
   ],
   "source": [
    "data = data_student[(data_student[\"行为编号\"] == 7)]\n",
    "data[COL_TIMESTAMP] = pd.to_datetime(data[COL_TIMESTAMP],format = '%Y/%m/%d %H:%M')\n",
    "data[COL_TIMESTAMP].dtypes\n",
    "data.info()"
   ]
  },
  {
   "cell_type": "code",
   "execution_count": null,
   "metadata": {},
   "outputs": [],
   "source": [
    "#清洗文本\n",
    "i =0\n",
    "for each in data[\"持续时间\"].values:\n",
    "    #each.replace(\"-\",'')\n",
    "    if(type(each) != int):\n",
    "        ea = int(each.split(\":\")[0])\n",
    "        data[COL_RATING].values[i] =ea\n",
    "    i = i+1\n",
    "\n"
   ]
  },
  {
   "cell_type": "code",
   "execution_count": 63,
   "metadata": {},
   "outputs": [],
   "source": [
    "#清洗非正常格式的数据\n",
    "i=0\n",
    "for each in data[\"持续时间\"].values:\n",
    "    if(type(each) != int):\n",
    "        data[COL_RATING].values[i] = 0;\n",
    "\n",
    "    i = i+1\n"
   ]
  },
  {
   "cell_type": "code",
   "execution_count": 65,
   "metadata": {},
   "outputs": [
    {
     "name": "stdout",
     "output_type": "stream",
     "text": [
      "<class 'pandas.core.frame.DataFrame'>\n",
      "Int64Index: 41154 entries, 10 to 679077\n",
      "Data columns (total 7 columns):\n",
      " #   Column  Non-Null Count  Dtype         \n",
      "---  ------  --------------  -----         \n",
      " 0   id      41154 non-null  int64         \n",
      " 1   学号      41154 non-null  object        \n",
      " 2   课程id    41154 non-null  object        \n",
      " 3   行为编号    41154 non-null  int64         \n",
      " 4   开始时间    41154 non-null  object        \n",
      " 5   持续时间    41154 non-null  object        \n",
      " 6   行为发生时间  41154 non-null  datetime64[ns]\n",
      "dtypes: datetime64[ns](1), int64(2), object(4)\n",
      "memory usage: 2.5+ MB\n"
     ]
    },
    {
     "data": {
      "text/plain": [
       "array([8, 1, 1, ..., 0, 0, 0], dtype=object)"
      ]
     },
     "execution_count": 65,
     "metadata": {},
     "output_type": "execute_result"
    }
   ],
   "source": [
    "data.info()\n",
    "data[\"持续时间\"].values"
   ]
  },
  {
   "cell_type": "code",
   "execution_count": 80,
   "metadata": {},
   "outputs": [
    {
     "data": {
      "text/html": [
       "<div>\n",
       "<style scoped>\n",
       "    .dataframe tbody tr th:only-of-type {\n",
       "        vertical-align: middle;\n",
       "    }\n",
       "\n",
       "    .dataframe tbody tr th {\n",
       "        vertical-align: top;\n",
       "    }\n",
       "\n",
       "    .dataframe thead th {\n",
       "        text-align: right;\n",
       "    }\n",
       "</style>\n",
       "<table border=\"1\" class=\"dataframe\">\n",
       "  <thead>\n",
       "    <tr style=\"text-align: right;\">\n",
       "      <th></th>\n",
       "      <th>学号</th>\n",
       "      <th>课程id</th>\n",
       "      <th>持续时间</th>\n",
       "    </tr>\n",
       "  </thead>\n",
       "  <tbody>\n",
       "    <tr>\n",
       "      <th>10</th>\n",
       "      <td>929C2CD2FD0EF9A3</td>\n",
       "      <td>beidawlf_01_02_05</td>\n",
       "      <td>8</td>\n",
       "    </tr>\n",
       "    <tr>\n",
       "      <th>19</th>\n",
       "      <td>533FA407DBA0C51C</td>\n",
       "      <td>beidawlf_05_03_09</td>\n",
       "      <td>1</td>\n",
       "    </tr>\n",
       "    <tr>\n",
       "      <th>21</th>\n",
       "      <td>533FA407DBA0C51C</td>\n",
       "      <td>beidawlf_04_01_08</td>\n",
       "      <td>1</td>\n",
       "    </tr>\n",
       "    <tr>\n",
       "      <th>23</th>\n",
       "      <td>533FA407DBA0C51C</td>\n",
       "      <td>beidawlf_04_01_09</td>\n",
       "      <td>0</td>\n",
       "    </tr>\n",
       "    <tr>\n",
       "      <th>25</th>\n",
       "      <td>533FA407DBA0C51C</td>\n",
       "      <td>beidawlf_04_01_10</td>\n",
       "      <td>0</td>\n",
       "    </tr>\n",
       "  </tbody>\n",
       "</table>\n",
       "</div>"
      ],
      "text/plain": [
       "                  学号               课程id 持续时间\n",
       "10  929C2CD2FD0EF9A3  beidawlf_01_02_05    8\n",
       "19  533FA407DBA0C51C  beidawlf_05_03_09    1\n",
       "21  533FA407DBA0C51C  beidawlf_04_01_08    1\n",
       "23  533FA407DBA0C51C  beidawlf_04_01_09    0\n",
       "25  533FA407DBA0C51C  beidawlf_04_01_10    0"
      ]
     },
     "execution_count": 80,
     "metadata": {},
     "output_type": "execute_result"
    }
   ],
   "source": [
    "#如何选择rating的数据？\n",
    "#获得需要的三元组\n",
    "\n",
    "data_uir = data[['学号','课程id','持续时间']] #,\"行为发生时间\"\n",
    "data_uir.head()"
   ]
  },
  {
   "cell_type": "code",
   "execution_count": 70,
   "metadata": {},
   "outputs": [],
   "source": [
    "#reverse_data_uir = pd.DataFrame(data_uir.values.T, index=data_uir.columns, columns=data_uir.index)\n",
    "\n",
    "#reverse_data_uir.head()"
   ]
  },
  {
   "cell_type": "code",
   "execution_count": 99,
   "metadata": {},
   "outputs": [],
   "source": [
    "train, test = python_random_split(data_uir, 0.75)\n",
    "#对训练集进行转置处理\n",
    "#train2 = pd.DataFrame(train.values.T, index=train.columns, columns=train.index)\n",
    "#train2.head()"
   ]
  },
  {
   "cell_type": "markdown",
   "metadata": {},
   "source": [
    "### 3.2 Cornac Dataset\n",
    "\n",
    "To work with models implemented in Cornac, we need to construct an object from [Dataset](https://cornac.readthedocs.io/en/latest/data.html#module-cornac.data.dataset) class.\n",
    "为了能够成功使用Cornac来建立模型，需要将数据集建立成一个对象。\n",
    "数据转化，数据集还提供了一系列工具来在数据之中浏览循环，以及许多用来消极取样的工具。 negative sampling techniques.\n",
    "\n",
    "创建train_set对象， ##中间的参数没有看懂\n",
    "显示两个主要集合的数量"
   ]
  },
  {
   "cell_type": "code",
   "execution_count": 84,
   "metadata": {
    "scrolled": true
   },
   "outputs": [
    {
     "name": "stdout",
     "output_type": "stream",
     "text": [
      "Number of users: 330\n",
      "Number of items: 803\n"
     ]
    }
   ],
   "source": [
    "train_set = cornac.data.trainset.MatrixTrainSet.from_uir(train.itertuples(index=False) )\n",
    "\n",
    "print('Number of users: {}'.format(train_set.num_users),)\n",
    "print('Number of items: {}'.format(train_set.num_items))\n",
    "#.itertuples(index=False)?what's"
   ]
  },
  {
   "cell_type": "markdown",
   "metadata": {},
   "source": [
    "### 3.3 Train the BPR model\n",
    "\n",
    "BPR具有一些我们需要考虑的重要参数：\n",
    "\n",
    "-`k`：控制潜在空间的尺寸（即向量$ w_u $和$ h_i $的大小）。\n",
    "-`max_iter`：定义SGD过程的迭代次数。\n",
    "-“ learning_rate”：控制渐变更新规则中的步长$ \\ alpha $。\n",
    "-`lambda_reg`：控制目标函数中的L2-Regularization $ \\ lambda $。\n",
    "\n",
    "注意，`k`和`max_iter`的不同值会影响训练时间。\n",
    "\n",
    "我们在这里将k设置为200，max_iter设置为100，learning_rate设置为0.01，lambda_reg设置为0.001。要训​​练模型，我们只需要调用`fit（）`方法。"
   ]
  },
  {
   "cell_type": "code",
   "execution_count": 85,
   "metadata": {},
   "outputs": [],
   "source": [
    "bpr = cornac.models.BPR(\n",
    "    k=NUM_FACTORS,\n",
    "    max_iter=NUM_EPOCHS,\n",
    "    learning_rate=0.01,\n",
    "    lambda_reg=0.001,\n",
    "    verbose=True,\n",
    "    seed=SEED\n",
    ")"
   ]
  },
  {
   "cell_type": "code",
   "execution_count": 86,
   "metadata": {},
   "outputs": [
    {
     "name": "stderr",
     "output_type": "stream",
     "text": [
      "100%|██████████| 20/20 [00:05<00:00,  3.39it/s, correct=90.20%, skipped=98.63%] "
     ]
    },
    {
     "name": "stdout",
     "output_type": "stream",
     "text": [
      "Optimization finished!\n",
      "Took 6.4717 seconds for training.\n"
     ]
    },
    {
     "name": "stderr",
     "output_type": "stream",
     "text": [
      "\n"
     ]
    }
   ],
   "source": [
    "with Timer() as t:\n",
    "    bpr.fit(train_set)\n",
    "print(\"Took {} seconds for training.\".format(t))"
   ]
  },
  {
   "cell_type": "markdown",
   "metadata": {},
   "source": [
    "### 3.4 Prediction and Evaluation\n",
    "\n",
    "现在我们的模型已经训练完毕，我们可以生成排名列表以供推荐。 Cornac中的每个推荐器模型都提供“ rate（）”和“ rank（）”方法来预测给定用户的项目额定值以及项目排名列表。为了利用当前的评估方案，我们将通过cornac_utils中的`predict（）`和`predict_ranking（）`函数来生成预测。\n",
    "\n",
    "请注意，BPR模型是为项目排名有效设计的。因此，我们仅使用排名指标来衡量效果。模型得以训练成功之后，可以生成推荐的排序列表。利用test集合，选取其中所有的预测结果，取名为'prediction'列，选取其中k值。\n",
    "\n",
    "评估其中的Map,Ndcg,Precision, Recall@k，将评估结果存储在pm之中"
   ]
  },
  {
   "cell_type": "code",
   "execution_count": 93,
   "metadata": {
    "scrolled": true
   },
   "outputs": [
    {
     "name": "stdout",
     "output_type": "stream",
     "text": [
      "Took 1.2539 seconds for prediction.\n"
     ]
    }
   ],
   "source": [
    "with Timer() as t:\n",
    "    all_predictions = predict_ranking(bpr, train, usercol='学号', itemcol='课程id', remove_seen=True)\n",
    "print(\"Took {} seconds for prediction.\".format(t))"
   ]
  },
  {
   "cell_type": "code",
   "execution_count": 95,
   "metadata": {},
   "outputs": [],
   "source": [
    "userID ='学号'\n",
    "itemID ='课程id'\n",
    "rating = '课程持续时间'"
   ]
  },
  {
   "cell_type": "code",
   "execution_count": 102,
   "metadata": {
    "scrolled": true
   },
   "outputs": [
    {
     "data": {
      "text/html": [
       "<div>\n",
       "<style scoped>\n",
       "    .dataframe tbody tr th:only-of-type {\n",
       "        vertical-align: middle;\n",
       "    }\n",
       "\n",
       "    .dataframe tbody tr th {\n",
       "        vertical-align: top;\n",
       "    }\n",
       "\n",
       "    .dataframe thead th {\n",
       "        text-align: right;\n",
       "    }\n",
       "</style>\n",
       "<table border=\"1\" class=\"dataframe\">\n",
       "  <thead>\n",
       "    <tr style=\"text-align: right;\">\n",
       "      <th></th>\n",
       "      <th>学号</th>\n",
       "      <th>课程id</th>\n",
       "      <th>prediction</th>\n",
       "    </tr>\n",
       "  </thead>\n",
       "  <tbody>\n",
       "    <tr>\n",
       "      <th>30865</th>\n",
       "      <td>4F81E6DA41395DA8</td>\n",
       "      <td>beidawlf_03_01_01</td>\n",
       "      <td>0.082525</td>\n",
       "    </tr>\n",
       "    <tr>\n",
       "      <th>30866</th>\n",
       "      <td>4F81E6DA41395DA8</td>\n",
       "      <td>beidawlf_08_05</td>\n",
       "      <td>0.666111</td>\n",
       "    </tr>\n",
       "    <tr>\n",
       "      <th>30867</th>\n",
       "      <td>4F81E6DA41395DA8</td>\n",
       "      <td>beidawlf_01_02_01</td>\n",
       "      <td>-0.266256</td>\n",
       "    </tr>\n",
       "    <tr>\n",
       "      <th>30868</th>\n",
       "      <td>4F81E6DA41395DA8</td>\n",
       "      <td>beidawlf_05_03</td>\n",
       "      <td>3.265529</td>\n",
       "    </tr>\n",
       "    <tr>\n",
       "      <th>30869</th>\n",
       "      <td>4F81E6DA41395DA8</td>\n",
       "      <td>beidawlf_05_01_11</td>\n",
       "      <td>1.637036</td>\n",
       "    </tr>\n",
       "  </tbody>\n",
       "</table>\n",
       "</div>"
      ],
      "text/plain": [
       "                     学号               课程id  prediction\n",
       "30865  4F81E6DA41395DA8  beidawlf_03_01_01    0.082525\n",
       "30866  4F81E6DA41395DA8     beidawlf_08_05    0.666111\n",
       "30867  4F81E6DA41395DA8  beidawlf_01_02_01   -0.266256\n",
       "30868  4F81E6DA41395DA8     beidawlf_05_03    3.265529\n",
       "30869  4F81E6DA41395DA8  beidawlf_05_01_11    1.637036"
      ]
     },
     "execution_count": 102,
     "metadata": {},
     "output_type": "execute_result"
    }
   ],
   "source": [
    "all_predictions.head()"
   ]
  },
  {
   "cell_type": "code",
   "execution_count": null,
   "metadata": {},
   "outputs": [],
   "source": []
  },
  {
   "cell_type": "code",
   "execution_count": null,
   "metadata": {},
   "outputs": [],
   "source": [
    "#存储到仓库中\n",
    "all_predictions.to_csv('all_predictions.csv')"
   ]
  },
  {
   "cell_type": "code",
   "execution_count": 97,
   "metadata": {},
   "outputs": [
    {
     "name": "stderr",
     "output_type": "stream",
     "text": [
      "Missing column: userID in DataFrame\n",
      "Missing column: itemID in DataFrame\n",
      "Missing column: rating in DataFrame\n"
     ]
    },
    {
     "ename": "ValueError",
     "evalue": "Missing columns in true rating DataFrame",
     "output_type": "error",
     "traceback": [
      "\u001b[0;31m---------------------------------------------------------------------------\u001b[0m",
      "\u001b[0;31mValueError\u001b[0m                                Traceback (most recent call last)",
      "\u001b[0;32m<ipython-input-97-e93310563aed>\u001b[0m in \u001b[0;36m<module>\u001b[0;34m\u001b[0m\n\u001b[1;32m      1\u001b[0m \u001b[0mk\u001b[0m \u001b[0;34m=\u001b[0m \u001b[0;36m10\u001b[0m\u001b[0;34m\u001b[0m\u001b[0;34m\u001b[0m\u001b[0m\n\u001b[0;32m----> 2\u001b[0;31m \u001b[0meval_map\u001b[0m \u001b[0;34m=\u001b[0m \u001b[0mmap_at_k\u001b[0m\u001b[0;34m(\u001b[0m\u001b[0mtest\u001b[0m\u001b[0;34m,\u001b[0m \u001b[0mall_predictions\u001b[0m\u001b[0;34m,\u001b[0m \u001b[0mcol_prediction\u001b[0m\u001b[0;34m=\u001b[0m\u001b[0;34m'prediction'\u001b[0m\u001b[0;34m,\u001b[0m \u001b[0mk\u001b[0m\u001b[0;34m=\u001b[0m\u001b[0mk\u001b[0m\u001b[0;34m)\u001b[0m\u001b[0;34m\u001b[0m\u001b[0;34m\u001b[0m\u001b[0m\n\u001b[0m\u001b[1;32m      3\u001b[0m \u001b[0meval_ndcg\u001b[0m \u001b[0;34m=\u001b[0m \u001b[0mndcg_at_k\u001b[0m\u001b[0;34m(\u001b[0m\u001b[0mtest\u001b[0m\u001b[0;34m,\u001b[0m \u001b[0mall_predictions\u001b[0m\u001b[0;34m,\u001b[0m \u001b[0mcol_prediction\u001b[0m\u001b[0;34m=\u001b[0m\u001b[0;34m'prediction'\u001b[0m\u001b[0;34m,\u001b[0m \u001b[0mk\u001b[0m\u001b[0;34m=\u001b[0m\u001b[0mk\u001b[0m\u001b[0;34m)\u001b[0m\u001b[0;34m\u001b[0m\u001b[0;34m\u001b[0m\u001b[0m\n\u001b[1;32m      4\u001b[0m \u001b[0meval_precision\u001b[0m \u001b[0;34m=\u001b[0m \u001b[0mprecision_at_k\u001b[0m\u001b[0;34m(\u001b[0m\u001b[0mtest\u001b[0m\u001b[0;34m,\u001b[0m \u001b[0mall_predictions\u001b[0m\u001b[0;34m,\u001b[0m \u001b[0mcol_prediction\u001b[0m\u001b[0;34m=\u001b[0m\u001b[0;34m'prediction'\u001b[0m\u001b[0;34m,\u001b[0m \u001b[0mk\u001b[0m\u001b[0;34m=\u001b[0m\u001b[0mk\u001b[0m\u001b[0;34m)\u001b[0m\u001b[0;34m\u001b[0m\u001b[0;34m\u001b[0m\u001b[0m\n\u001b[1;32m      5\u001b[0m \u001b[0meval_recall\u001b[0m \u001b[0;34m=\u001b[0m \u001b[0mrecall_at_k\u001b[0m\u001b[0;34m(\u001b[0m\u001b[0mtest\u001b[0m\u001b[0;34m,\u001b[0m \u001b[0mall_predictions\u001b[0m\u001b[0;34m,\u001b[0m \u001b[0mcol_prediction\u001b[0m\u001b[0;34m=\u001b[0m\u001b[0;34m'prediction'\u001b[0m\u001b[0;34m,\u001b[0m \u001b[0mk\u001b[0m\u001b[0;34m=\u001b[0m\u001b[0mk\u001b[0m\u001b[0;34m)\u001b[0m\u001b[0;34m\u001b[0m\u001b[0;34m\u001b[0m\u001b[0m\n",
      "\u001b[0;32m~/Recommenders/reco_utils/evaluation/python_evaluation.py\u001b[0m in \u001b[0;36mmap_at_k\u001b[0;34m(rating_true, rating_pred, col_user, col_item, col_rating, col_prediction, relevancy_method, k, threshold)\u001b[0m\n\u001b[1;32m    623\u001b[0m         \u001b[0mrelevancy_method\u001b[0m\u001b[0;34m=\u001b[0m\u001b[0mrelevancy_method\u001b[0m\u001b[0;34m,\u001b[0m\u001b[0;34m\u001b[0m\u001b[0;34m\u001b[0m\u001b[0m\n\u001b[1;32m    624\u001b[0m         \u001b[0mk\u001b[0m\u001b[0;34m=\u001b[0m\u001b[0mk\u001b[0m\u001b[0;34m,\u001b[0m\u001b[0;34m\u001b[0m\u001b[0;34m\u001b[0m\u001b[0m\n\u001b[0;32m--> 625\u001b[0;31m         \u001b[0mthreshold\u001b[0m\u001b[0;34m=\u001b[0m\u001b[0mthreshold\u001b[0m\u001b[0;34m,\u001b[0m\u001b[0;34m\u001b[0m\u001b[0;34m\u001b[0m\u001b[0m\n\u001b[0m\u001b[1;32m    626\u001b[0m     )\n\u001b[1;32m    627\u001b[0m \u001b[0;34m\u001b[0m\u001b[0m\n",
      "\u001b[0;32m~/Recommenders/reco_utils/evaluation/python_evaluation.py\u001b[0m in \u001b[0;36mcheck_column_dtypes_wrapper\u001b[0;34m(rating_true, rating_pred, col_user, col_item, col_rating, col_prediction, *args, **kwargs)\u001b[0m\n\u001b[1;32m     63\u001b[0m \u001b[0;34m\u001b[0m\u001b[0m\n\u001b[1;32m     64\u001b[0m         \u001b[0;32mif\u001b[0m \u001b[0;32mnot\u001b[0m \u001b[0mhas_columns\u001b[0m\u001b[0;34m(\u001b[0m\u001b[0mrating_true\u001b[0m\u001b[0;34m,\u001b[0m \u001b[0;34m[\u001b[0m\u001b[0mcol_user\u001b[0m\u001b[0;34m,\u001b[0m \u001b[0mcol_item\u001b[0m\u001b[0;34m,\u001b[0m \u001b[0mcol_rating\u001b[0m\u001b[0;34m]\u001b[0m\u001b[0;34m)\u001b[0m\u001b[0;34m:\u001b[0m\u001b[0;34m\u001b[0m\u001b[0;34m\u001b[0m\u001b[0m\n\u001b[0;32m---> 65\u001b[0;31m             \u001b[0;32mraise\u001b[0m \u001b[0mValueError\u001b[0m\u001b[0;34m(\u001b[0m\u001b[0;34m\"Missing columns in true rating DataFrame\"\u001b[0m\u001b[0;34m)\u001b[0m\u001b[0;34m\u001b[0m\u001b[0;34m\u001b[0m\u001b[0m\n\u001b[0m\u001b[1;32m     66\u001b[0m         \u001b[0;32mif\u001b[0m \u001b[0;32mnot\u001b[0m \u001b[0mhas_columns\u001b[0m\u001b[0;34m(\u001b[0m\u001b[0mrating_pred\u001b[0m\u001b[0;34m,\u001b[0m \u001b[0;34m[\u001b[0m\u001b[0mcol_user\u001b[0m\u001b[0;34m,\u001b[0m \u001b[0mcol_item\u001b[0m\u001b[0;34m,\u001b[0m \u001b[0mcol_prediction\u001b[0m\u001b[0;34m]\u001b[0m\u001b[0;34m)\u001b[0m\u001b[0;34m:\u001b[0m\u001b[0;34m\u001b[0m\u001b[0;34m\u001b[0m\u001b[0m\n\u001b[1;32m     67\u001b[0m             \u001b[0;32mraise\u001b[0m \u001b[0mValueError\u001b[0m\u001b[0;34m(\u001b[0m\u001b[0;34m\"Missing columns in predicted rating DataFrame\"\u001b[0m\u001b[0;34m)\u001b[0m\u001b[0;34m\u001b[0m\u001b[0;34m\u001b[0m\u001b[0m\n",
      "\u001b[0;31mValueError\u001b[0m: Missing columns in true rating DataFrame"
     ]
    }
   ],
   "source": [
    "k = 10\n",
    "eval_map = map_at_k(test, all_predictions, col_prediction='prediction', k=k)\n",
    "eval_ndcg = ndcg_at_k(test, all_predictions, col_prediction='prediction', k=k)\n",
    "eval_precision = precision_at_k(test, all_predictions, col_prediction='prediction', k=k)\n",
    "eval_recall = recall_at_k(test, all_predictions, col_prediction='prediction', k=k)\n",
    "\n",
    "print(\"MAP:\\t%f\" % eval_map,\n",
    "      \"NDCG:\\t%f\" % eval_ndcg,\n",
    "      \"Precision@K:\\t%f\" % eval_precision,\n",
    "      \"Recall@K:\\t%f\" % eval_recall, sep='\\n')"
   ]
  },
  {
   "cell_type": "code",
   "execution_count": null,
   "metadata": {},
   "outputs": [],
   "source": [
    "# Record results with papermill for tests\n",
    "pm.record(\"map\", eval_map)\n",
    "pm.record(\"ndcg\", eval_ndcg)\n",
    "pm.record(\"precision\", eval_precision)\n",
    "pm.record(\"recall\", eval_recall)"
   ]
  },
  {
   "cell_type": "markdown",
   "metadata": {},
   "source": [
    "## References\n",
    "\n",
    "1. Rendle, S., Freudenthaler, C., Gantner, Z., & Schmidt-Thieme, L. (2009, June). BPR: Bayesian personalized ranking from implicit feedback. https://arxiv.org/ftp/arxiv/papers/1205/1205.2618.pdf\n",
    "2. Pan, R., Zhou, Y., Cao, B., Liu, N. N., Lukose, R., Scholz, M., & Yang, Q. (2008, December). One-class collaborative filtering. https://cseweb.ucsd.edu/classes/fa17/cse291-b/reading/04781145.pdf\n",
    "3. **Cornac** - A Comparative Framework for Multimodal Recommender Systems. https://cornac.preferred.ai/"
   ]
  }
 ],
 "metadata": {
  "celltoolbar": "Tags",
  "kernelspec": {
   "display_name": "Python 3",
   "language": "python",
   "name": "python3"
  },
  "language_info": {
   "codemirror_mode": {
    "name": "ipython",
    "version": 3
   },
   "file_extension": ".py",
   "mimetype": "text/x-python",
   "name": "python",
   "nbconvert_exporter": "python",
   "pygments_lexer": "ipython3",
   "version": "3.7.6"
  }
 },
 "nbformat": 4,
 "nbformat_minor": 2
}
